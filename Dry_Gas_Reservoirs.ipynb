{
  "nbformat": 4,
  "nbformat_minor": 0,
  "metadata": {
    "colab": {
      "provenance": []
    },
    "kernelspec": {
      "name": "python3",
      "display_name": "Python 3"
    },
    "language_info": {
      "name": "python"
    }
  },
  "cells": [
    {
      "cell_type": "code",
      "execution_count": null,
      "metadata": {
        "id": "27e2hIeaWKbf"
      },
      "outputs": [],
      "source": [
        "\n",
        "\n",
        "import numpy as np\n",
        "import matplotlib.pyplot as plt\n",
        "import pandas as pd\n",
        "\n"
      ]
    },
    {
      "cell_type": "code",
      "source": [
        "!git clone https://www.github.com/yohanesnuwara/reservoir-engineering"
      ],
      "metadata": {
        "colab": {
          "base_uri": "https://localhost:8080/"
        },
        "id": "wLxk6WtFWSZI",
        "outputId": "b505bbee-5b8f-475c-cea4-a7e6e619cdca"
      },
      "execution_count": null,
      "outputs": [
        {
          "output_type": "stream",
          "name": "stdout",
          "text": [
            "Cloning into 'reservoir-engineering'...\n",
            "warning: redirecting to https://github.com/yohanesnuwara/reservoir-engineering.git/\n",
            "remote: Enumerating objects: 1287, done.\u001b[K\n",
            "remote: Counting objects: 100% (142/142), done.\u001b[K\n",
            "remote: Compressing objects: 100% (135/135), done.\u001b[K\n",
            "remote: Total 1287 (delta 55), reused 0 (delta 0), pack-reused 1145\u001b[K\n",
            "Receiving objects: 100% (1287/1287), 17.44 MiB | 23.44 MiB/s, done.\n",
            "Resolving deltas: 100% (576/576), done.\n"
          ]
        }
      ]
    },
    {
      "cell_type": "code",
      "source": [
        "def recovery_factor_drygas_waterdrive(swi, Bgi, sgr, Bga):\n",
        "  \"recovery factor of dry gas reservoir with waterdrive\"\n",
        "  # gas FVF at abandonment pressure (RB/scf)\n",
        "  # sgr: residual gas saturation\n",
        "  rf = (((1 - swi) / Bgi) - (sgr / Bga)) / ((1 - swi) / Bgi)\n",
        "  return(rf)\n",
        "\n",
        "def recovery_factor_drygas_volumetric(Bgi, Bga):\n",
        "  \"recovery factor of dry gas reservoir with NO waterdrive\"  \n",
        "  # gas FVF at abandonment pressure (RB/scf)\n",
        "  # sgr: residual gas saturation\n",
        "  rf = 1 - (Bgi / Bga)\n",
        "  return(rf)\n",
        "  "
      ],
      "metadata": {
        "id": "iJWlIqSiWXIB"
      },
      "execution_count": null,
      "outputs": []
    },
    {
      "cell_type": "code",
      "source": [
        "\n",
        "\n",
        "\"Gas equivalence to condensate\"\n",
        "\n",
        "Tsc = 519.57 # standard temp in Rankine\n",
        "psc = 14.7 # standard pressure in psi\n",
        "R = 10.732\n",
        "rho_w = 350.16 # water density in lbm/STB\n",
        "V1 = 700 # the smallest value of gas equivalence (scf)\n",
        "V2 = 750 # the largest value of gas equivalence (scf)\n",
        "\n",
        "# solve for api from Equation 9.5, 9.6, 9.7\n",
        "from scipy.optimize import fsolve\n",
        "\n",
        "def f(api):\n",
        "  so = 141.5 / (api + 131.5) # so: specific gravity of oil (dimensionless)\n",
        "  Mo = 5854 / (api - 8.811) # molecular weight of oil\n",
        "  n = (rho_w * so) / Mo\n",
        "  # real gas equation: V = nRT/p\n",
        "  f1 = ((n * R * Tsc) / psc) - V1\n",
        "  return(f1)\n",
        "\n",
        "api1 = fsolve(f, 40)\n",
        "api1 = np.float64(api1)\n",
        "\n",
        "def f(api):\n",
        "  so = 141.5 / (api + 131.5) # so: specific gravity of oil (dimensionless)\n",
        "  Mo = 5854 / (api - 8.811) # molecular weight of oil\n",
        "  n = (rho_w * so) / Mo\n",
        "  # real gas equation: V = nRT/p\n",
        "  f2 = ((n * R * Tsc) / psc) - V2\n",
        "  return(f2)\n",
        "\n",
        "api2 = fsolve(f, 40)\n",
        "api2 = np.float64(api2)\n",
        "\n",
        "print(\"API gravity of condensate is between:\", api1, \"API and:\", api2, \"API\")\n",
        "\n",
        "\n"
      ],
      "metadata": {
        "colab": {
          "base_uri": "https://localhost:8080/"
        },
        "id": "SlC_yNw3WgWx",
        "outputId": "983b66f3-5c09-4f48-9df5-3221b97a855a"
      },
      "execution_count": null,
      "outputs": [
        {
          "output_type": "stream",
          "name": "stdout",
          "text": [
            "API gravity of condensate is between: 47.93319100231802 API and: 51.57941144067795 API\n"
          ]
        }
      ]
    },
    {
      "cell_type": "code",
      "source": [
        "def condensate_to_gas_equivalence(api, stb):\n",
        "  \"Derivation from real gas equation\"\n",
        "  Tsc = 519.57 # standard temp in Rankine\n",
        "  psc = 14.7 # standard pressure in psi\n",
        "  R = 10.732\n",
        "  rho_w = 350.16 # water density in lbm/STB\n",
        "\n",
        "  so = 141.5 / (api + 131.5) # so: specific gravity of oil (dimensionless)\n",
        "  Mo = 5854 / (api - 8.811) # molecular weight of oil\n",
        "  n = (rho_w * so) / Mo  \n",
        "\n",
        "  V1stb = ((n * R * Tsc) / psc)\n",
        "  V = V1stb * stb\n",
        "  return(V1stb, V)\n",
        "\n",
        "stb = 100; api = 65\n",
        "\n",
        "V1stb, V = condensate_to_gas_equivalence(api, stb)\n",
        "print(\"1 STB of condensate is equivalent to:\", V1stb, \"scf of gas.\", stb, \"STB of condensate is equivalent to:\", V, \"scf of gas\")"
      ],
      "metadata": {
        "colab": {
          "base_uri": "https://localhost:8080/"
        },
        "id": "Pde3G08RWpPL",
        "outputId": "3b6dc3cc-f47e-47e7-8a25-954b4b9f0172"
      },
      "execution_count": null,
      "outputs": [
        {
          "output_type": "stream",
          "name": "stdout",
          "text": [
            "1 STB of condensate is equivalent to: 918.0501371833875 scf of gas. 100 STB of condensate is equivalent to: 91805.01371833876 scf of gas\n"
          ]
        }
      ]
    },
    {
      "cell_type": "code",
      "source": [
        "stb = 100\n",
        "V1stb = 132849 * (1 / 18)\n",
        "V = stb * V1stb\n",
        "print(stb, \"STB of water is equivalent to:\", V, \"scf of gas\")"
      ],
      "metadata": {
        "colab": {
          "base_uri": "https://localhost:8080/"
        },
        "id": "BP8Og-DeWz8H",
        "outputId": "9115cb48-46d4-4be8-fcf4-c1f425a1c096"
      },
      "execution_count": null,
      "outputs": [
        {
          "output_type": "stream",
          "name": "stdout",
          "text": [
            "100 STB of water is equivalent to: 738050.0 scf of gas\n"
          ]
        }
      ]
    },
    {
      "cell_type": "code",
      "source": [
        "\n",
        "\n",
        "def matbalance_drygas_volumetric(Gp, Bg, Bgi, Gfgi):\n",
        "  # no waterdrive\n",
        "  right_term = Gp * Bg\n",
        "  left_term = Gfgi * (Bg - Bgi)\n",
        "  return(right_term, left_term) # right term = left term (balance)\n",
        "\n"
      ],
      "metadata": {
        "id": "5vBlLORJW9Ci"
      },
      "execution_count": null,
      "outputs": []
    },
    {
      "cell_type": "code",
      "source": [
        "\n",
        "\n",
        "def ogip_matbalance_drygas_volumetric(Gp, p, z, pi, zi):\n",
        "  # no waterdrive\n",
        "  Gfgi = Gp / (1 - ((p * zi) / (pi * z)))\n",
        "  return(Gfgi)\n",
        "\n"
      ],
      "metadata": {
        "id": "xRIOdFYCXBX0"
      },
      "execution_count": null,
      "outputs": []
    },
    {
      "cell_type": "code",
      "source": [
        "\n",
        "\n",
        "\"Task. determine OGIP\"\n",
        "\n",
        "# known: volumetric (no waterdrive) dry gas reservoir\n",
        "pi = 3000 # initial pressure, psi\n",
        "temp = 190 # formation temperature, F\n",
        "p_current = 2876 # current pressure after production, psia\n",
        "Gp = 384 # gas production, MMscf\n",
        "pc = 671 # critical pressure, psia\n",
        "Tc = 358 # critical temperature, Rankine\n",
        "\n",
        "# conversion\n",
        "Gp = Gp * 1E+06 # from MMscf to scf\n",
        "\n",
        "# determine gas compressibility factor z using Dranchuk-Abou Kassem EOS rather than using chart\n",
        "import os, sys\n",
        "sys.path.append('/content/reservoir-engineering/Unit 2 Review of Rock and Fluid Properties/functions')\n",
        "from dranchuk_aboukassem import dranchuk\n",
        "\n",
        "# convert temperature from F to Rankine\n",
        "temp_conv = temp + 459.67\n",
        "\n",
        "P_pr_initial = pi / pc\n",
        "P_pr_current = p_current / pc\n",
        "T_pr = temp_conv / Tc\n",
        "\n",
        "rho_pr_initial, z_initial = dranchuk(T_pr, P_pr_initial)\n",
        "rho_pr_current, z_current = dranchuk(T_pr, P_pr_current)\n",
        "print(\"Initial gas compressibility factor:\", z_initial) \n",
        "print(\"Current gas compressibility factor:\", z_current) \n",
        "\n",
        "# calculate OGIP\n",
        "Gfgi = ogip_matbalance_drygas_volumetric(Gp, p_current, z_current, pi, z_initial)\n",
        "print(\"Original Gas in Place:\", Gfgi / 1E+09, \"Bscf\")\n",
        "\n"
      ],
      "metadata": {
        "colab": {
          "base_uri": "https://localhost:8080/"
        },
        "id": "VQktEQ8tXF_f",
        "outputId": "eaf1bf87-6e3e-4a88-b90c-823b95facda7"
      },
      "execution_count": null,
      "outputs": [
        {
          "output_type": "stream",
          "name": "stdout",
          "text": [
            "Initial gas compressibility factor: 0.9069024150713222\n",
            "Current gas compressibility factor: 0.9039322509456235\n",
            "Original Gas in Place: 10.056746912653262 Bscf\n"
          ]
        }
      ]
    },
    {
      "cell_type": "code",
      "source": [
        "\n",
        "\n",
        "z_initial = 0.912\n",
        "z_current = 0.907\n",
        "print(\"Initial gas compressibility factor:\", z_initial) \n",
        "print(\"Current gas compressibility factor:\", z_current) \n",
        "\n",
        "# calculate OGIP\n",
        "Gfgi = ogip_matbalance_drygas_volumetric(Gp, p_current, z_current, pi, z_initial)\n",
        "print(\"Original Gas in Place:\", Gfgi / 1E+09, \"Bscf\")\n",
        "\n"
      ],
      "metadata": {
        "colab": {
          "base_uri": "https://localhost:8080/"
        },
        "id": "DpvshLvCXLZF",
        "outputId": "4744690c-def4-405a-e4ce-654119ea4562"
      },
      "execution_count": null,
      "outputs": [
        {
          "output_type": "stream",
          "name": "stdout",
          "text": [
            "Initial gas compressibility factor: 0.912\n",
            "Current gas compressibility factor: 0.907\n",
            "Original Gas in Place: 10.652312209444611 Bscf\n"
          ]
        }
      ]
    },
    {
      "cell_type": "code",
      "source": [
        "\"Task. determine OGIP\"\n",
        "\n",
        "# known Table 9.1 \n",
        "pressure = np.array([3000, 2876, 2824, 2755, 2688, 2570, 2435, 2226, 2122, 1866])\n",
        "Gp = np.array([0, 384, 550, 788, 1002, 1445, 1899, 2670, 3113, 3982])\n",
        "\n",
        "# properties similar to Example 9.1\n",
        "temp = 190 + 459.67 # F to Rankine\n",
        "Tc = 358\n",
        "pc = 671\n",
        "\n",
        "# calculate gas z factor and FVF\n",
        "z_arr = []\n",
        "Bg_arr = []\n",
        "for i in range(len(pressure)):\n",
        "  P_pr = pressure[i] / pc\n",
        "  T_pr = temp / Tc\n",
        "  rho_pr, z = dranchuk(T_pr, P_pr)\n",
        "  Bg = 0.0282793 * z * temp / pressure[i] # Eq 2.2, temp in Rankine, p in psia\n",
        "  z_arr.append(float(z))\n",
        "  Bg_arr.append(float(Bg))\n",
        "\n",
        "\"Using Plot 9.1\"\n",
        "Eg = np.array(Bg_arr) - Bg_arr[0]\n",
        "Gp_Bg = Gp * np.array(Bg_arr)\n",
        "\n",
        "# regression\n",
        "sys.path.append('/content/reservoir-engineering/Unit 7 Introduction to Well-Test Analysis/functions')\n",
        "from regression import regression\n",
        "c1, m1 = regression(Eg, Gp_Bg)\n",
        "\n",
        "# straight line has slope m\n",
        "Gfgi_plot1 = np.abs(m1)\n",
        "print(\"OGIP calculated using Plot 9.1:\", Gfgi_plot1 / 1E+03, \"Bscf\")\n",
        "\n",
        "\"Using Plot 9.2\"\n",
        "p_z = pressure / z_arr\n",
        "\n",
        "# regression\n",
        "sys.path.append('/content/reservoir-engineering/Unit 7 Introduction to Well-Test Analysis/functions')\n",
        "from regression import regression\n",
        "c2, m2 = regression(Gp, p_z)\n",
        "\n",
        "# straight line has equation of: y=mx+c. Gfgi is the line intercept when y=0\n",
        "Gfgi_plot2 = c2 / np.abs(m2)\n",
        "print(\"OGIP calculated using Plot 9.2:\", Gfgi_plot2 / 1E+03, \"Bscf\")\n",
        "\n",
        "# Material-Balance Plots\n",
        "plt.figure(figsize=(15, 5))\n",
        "\n",
        "plt.subplot(1, 2, 1)\n",
        "plt.plot(Eg, Gp_Bg, '.')\n",
        "# plot regression\n",
        "F_reg = m1 * Eg + c1\n",
        "plt.plot(Eg, F_reg, '--')\n",
        "plt.title('$F$ vs $Eg$ Plot', size=20)\n",
        "plt.ylabel('$G_p B_g$ (million res cubic ft)'); plt.xlabel('$B_g-B_{gi}$ (res cubic ft/scf)')\n",
        "plt.xlim(xmin=0); plt.ylim(ymin=0)\n",
        "\n",
        "plt.subplot(1, 2, 2)\n",
        "plt.plot(Gp, p_z, '.')\n",
        "# plot regression\n",
        "p_z_reg = m2 * Gp + c2\n",
        "plt.plot(Gp, p_z_reg, '--')\n",
        "plt.title('$p/z$ Plot', size=20)\n",
        "plt.xlabel('$G_p$ (MMscf)'); plt.ylabel('$p/z$ (psia)')\n",
        "plt.xlim(xmin=0); plt.ylim(ymin=0)"
      ],
      "metadata": {
        "colab": {
          "base_uri": "https://localhost:8080/",
          "height": 312
        },
        "id": "Nm0oIpXJXRy_",
        "outputId": "b5151654-388c-47a8-9a01-9be625a9459b"
      },
      "execution_count": null,
      "outputs": [
        {
          "output_type": "stream",
          "name": "stdout",
          "text": [
            "OGIP calculated using Plot 9.1: 10.748033224262944 Bscf\n",
            "OGIP calculated using Plot 9.2: 10.758397571436433 Bscf\n"
          ]
        },
        {
          "output_type": "execute_result",
          "data": {
            "text/plain": [
              "(0.0, 3369.869895288443)"
            ]
          },
          "metadata": {},
          "execution_count": 12
        },
        {
          "output_type": "display_data",
          "data": {
            "text/plain": [
              "<Figure size 1080x360 with 2 Axes>"
            ],
            "image/png": "[encoded data removed]"
          },
          "metadata": {
            "needs_background": "light"
          }
        }
      ]
    },
    {
      "cell_type": "code",
      "source": [
        "\"Task. use Plot 9.3 to verify that reservoir in Example 9.2 is volumetric (no waterdrive)\"\n",
        "\n",
        "axisx = (np.array(Gp))[1:]\n",
        "F = Gp_Bg\n",
        "axisy = (np.array(F / Eg))[1:]\n",
        "\n",
        "# regression\n",
        "sys.path.append('/content/reservoir-engineering/Unit 7 Introduction to Well-Test Analysis/functions')\n",
        "from regression import regression\n",
        "c3, m3 = regression(axisx, axisy)\n",
        "y_reg = m3 * axisx + c3\n",
        "\n",
        "# waterdrive diagnostic plot\n",
        "plt.plot(axisx, axisy, '.')\n",
        "plt.plot(axisx, y_reg, '--')\n",
        "plt.title('$F/E_g$ vs $G_p$ Plot', size=20)\n",
        "plt.xlabel('$G_p$ (MMscf)'); plt.ylabel('$F/E_g$ (MMscf)')\n",
        "plt.xlim(xmin=0); plt.ylim(8000, 11000)\n",
        "\n",
        "print(\"Slope:\", m3, \"is relatively horizontal\")\n",
        "print(\"Intercept is OGIP:\", c3 / 1E+03, \"Bscf\")"
      ],
      "metadata": {
        "colab": {
          "base_uri": "https://localhost:8080/",
          "height": 398
        },
        "id": "9psVNZaYXZpV",
        "outputId": "11b0278d-1d3e-4f1d-e2ee-85c237509941"
      },
      "execution_count": null,
      "outputs": [
        {
          "output_type": "stream",
          "name": "stderr",
          "text": [
            "/usr/local/lib/python3.7/dist-packages/ipykernel_launcher.py:5: RuntimeWarning: invalid value encountered in true_divide\n",
            "  \"\"\"\n"
          ]
        },
        {
          "output_type": "stream",
          "name": "stdout",
          "text": [
            "Slope: 0.18826023842710268 is relatively horizontal\n",
            "Intercept is OGIP: 10.130185127404664 Bscf\n"
          ]
        },
        {
          "output_type": "display_data",
          "data": {
            "text/plain": [
              "<Figure size 432x288 with 1 Axes>"
            ],
            "image/png": "[encoded data removed]"
          },
          "metadata": {
            "needs_background": "light"
          }
        }
      ]
    },
    {
      "cell_type": "code",
      "source": [
        "# load data\n",
        "dataprod = pd.read_csv('/content/reservoir-engineering/Unit 9 Dry-Gas Reservoirs/data/Table 9.4-Reservoir Data and Documented Pressures and Production Example 9.4.csv')\n",
        "\n",
        "# visualize data Gp, Np, Wp in one plot\n",
        "time = np.array(dataprod.t); Gp = np.array(dataprod.Gp); Np = np.array(dataprod.Np); Wp = np.array(dataprod.Wp)\n",
        "\n",
        "fig = plt.figure(figsize=(10,7))\n",
        "host = fig.add_subplot(111)\n",
        "\n",
        "par1 = host.twinx()\n",
        "par2 = host.twinx()\n",
        "\n",
        "host.set_xlabel(\"Time (years)\")\n",
        "host.set_ylabel(\"Water Production (STB)\")\n",
        "par1.set_ylabel(\"Gas Production (STB)\")\n",
        "par2.set_ylabel(\"Oil Production (STB)\")\n",
        "\n",
        "# color1 = plt.cm.viridis(0)\n",
        "# color2 = plt.cm.viridis(0.5)\n",
        "# color3 = plt.cm.viridis(.9)\n",
        "\n",
        "p1, = host.plot(time, Wp, color='blue',label=\"Water production\")\n",
        "p2, = par1.plot(time, Gp, color='red', label=\"Gas production\")\n",
        "p3, = par2.plot(time, Np, color='black', label=\"Oil production\")\n",
        "\n",
        "lns = [p1, p2, p3]\n",
        "host.legend(handles=lns, loc='best')\n",
        "\n",
        "# right, left, top, bottom\n",
        "par2.spines['right'].set_position(('outward', 60))      "
      ],
      "metadata": {
        "colab": {
          "base_uri": "https://localhost:8080/",
          "height": 393
        },
        "id": "vQY-nB3sXg6a",
        "outputId": "d0b85532-5ef7-4916-d7bb-9f32963a8968"
      },
      "execution_count": null,
      "outputs": [
        {
          "output_type": "display_data",
          "data": {
            "text/plain": [
              "<Figure size 720x504 with 3 Axes>"
            ],
            "image/png": "[encoded data removed]"
          },
          "metadata": {
            "needs_background": "light"
          }
        }
      ]
    },
    {
      "cell_type": "code",
      "source": [
        "pressure = np.array(dataprod.p); z = np.array(dataprod.z)\n",
        "p_z = pressure / z\n",
        "\n",
        "# conversion\n",
        "Gp = np.array(dataprod.Gp) * 1E+06 # mmscf to scf\n",
        "Bg = np.array(dataprod.Bg) * (1 / (1E+03)) # res ft3/mscf to resft3/scf\n",
        "F = Gp * Bg # result in res ft3\n",
        "Eg = Bg - Bg[0] # resft3/scf\n",
        "F_Eg = F / Eg # res ft3 * (scf/res ft3), result in scf\n",
        "F_Eg = F_Eg / (1E+09) # convert scf to Bscf\n",
        "\n",
        "plt.figure(figsize=(13,5))\n",
        "\n",
        "plt.subplot(1,2,1)\n",
        "plt.plot((Gp / 1E+06), p_z, '.') # plot x in mmscf\n",
        "plt.title('p/z vs $G_p$ plot', size=15, pad=10)\n",
        "plt.xlabel('$G_p$ (MMscf)'); plt.ylabel('$p/z$ (psia)')\n",
        "\n",
        "plt.subplot(1,2,2)\n",
        "plt.plot((Gp / 1E+06), F_Eg, '.')\n",
        "plt.title('$F/E_g$ vs $G_p$ plot', size=15, pad=10)\n",
        "plt.xlabel('$G_p$ (MMscf)'); plt.ylabel('$F/E_g$ (Bscf)')\n",
        "\n",
        "plt.tight_layout(pad=3.0) # set distance between two plots"
      ],
      "metadata": {
        "colab": {
          "base_uri": "https://localhost:8080/",
          "height": 293
        },
        "id": "2b_XMcmPXoz5",
        "outputId": "b06054b6-9b13-4871-eeff-83c0f4ee97e4"
      },
      "execution_count": null,
      "outputs": [
        {
          "output_type": "stream",
          "name": "stderr",
          "text": [
            "/usr/local/lib/python3.7/dist-packages/ipykernel_launcher.py:9: RuntimeWarning: invalid value encountered in true_divide\n",
            "  if __name__ == '__main__':\n"
          ]
        },
        {
          "output_type": "display_data",
          "data": {
            "text/plain": [
              "<Figure size 936x360 with 2 Axes>"
            ],
            "image/png": "[encoded data removed]"
          },
          "metadata": {
            "needs_background": "light"
          }
        }
      ]
    },
    {
      "cell_type": "code",
      "source": [
        "pressure = np.array(dataprod.p); z = np.array(dataprod.z)\n",
        "p_z = pressure / z\n",
        "\n",
        "# conversion\n",
        "Gp = np.array(dataprod.Gp) * 1E+06 # mmscf to scf\n",
        "Bg = np.array(dataprod.Bg) * (1 / (1E+03)) # res ft3/mscf to resft3/scf\n",
        "F = Gp * Bg # result in res ft3\n",
        "Eg = Bg - Bg[0] # resft3/scf\n",
        "F_Eg = F / Eg # res ft3 * (scf/res ft3), result in scf\n",
        "F_Eg = F_Eg / (1E+09) # convert scf to Bscf\n",
        "\n",
        "plt.figure(figsize=(13,5))\n",
        "\n",
        "plt.subplot(1,2,1)\n",
        "plt.plot((Gp / 1E+06), p_z, '.') # plot x in mmscf\n",
        "plt.title('p/z vs $G_p$ plot', size=15, pad=10)\n",
        "plt.xlabel('$G_p$ (MMscf)'); plt.ylabel('$p/z$ (psia)')\n",
        "\n",
        "plt.subplot(1,2,2)\n",
        "plt.plot((Gp / 1E+06), F_Eg, '.')\n",
        "plt.title('$F/E_g$ vs $G_p$ plot', size=15, pad=10)\n",
        "plt.xlabel('$G_p$ (MMscf)'); plt.ylabel('$F/E_g$ (Bscf)')\n",
        "\n",
        "plt.tight_layout(pad=3.0) # set distance between two plots"
      ],
      "metadata": {
        "colab": {
          "base_uri": "https://localhost:8080/",
          "height": 293
        },
        "id": "qRU1W1GoXsdl",
        "outputId": "a31047a5-8c78-478a-cb9f-750eab4e0297"
      },
      "execution_count": null,
      "outputs": [
        {
          "output_type": "stream",
          "name": "stderr",
          "text": [
            "/usr/local/lib/python3.7/dist-packages/ipykernel_launcher.py:9: RuntimeWarning: invalid value encountered in true_divide\n",
            "  if __name__ == '__main__':\n"
          ]
        },
        {
          "output_type": "display_data",
          "data": {
            "text/plain": [
              "<Figure size 936x360 with 2 Axes>"
            ],
            "image/png": "[encoded data removed]"
          },
          "metadata": {
            "needs_background": "light"
          }
        }
      ]
    },
    {
      "cell_type": "code",
      "source": [
        "\n",
        "\n",
        "Gfgi = 231 * 1E+09 # 231 from Sills, bscf to scf\n",
        "\n"
      ],
      "metadata": {
        "id": "52tiegjaXwZB"
      },
      "execution_count": null,
      "outputs": []
    },
    {
      "cell_type": "code",
      "source": [
        "\n",
        "\n",
        "\n",
        "F_conv = F / 1E+06 # from ft3 to million ft3\n",
        "\n",
        "\n",
        "\n"
      ],
      "metadata": {
        "id": "QOkzM1F4XzJr"
      },
      "execution_count": null,
      "outputs": []
    },
    {
      "cell_type": "code",
      "source": [
        "# known\n",
        "cf = 3.5E-6 # psi^-1\n",
        "cw = 2.9E-6 # psi^-1\n",
        "swi = 0.21\n",
        "\n",
        "Bw = np.array(dataprod.Bw)\n",
        "pi = pressure[0]\n",
        "Efw = ((cf + cw * swi) / (1 - swi)) * (pi - pressure)\n",
        "\n",
        "Bgi = Bg[0]\n",
        "Bw_Wp = Bw * Wp\n",
        "Gfgi_Eg = Gfgi * Eg\n",
        "Gfgi_Bgi_Efw = Gfgi * Bgi * Efw\n",
        "We = (Bw * Wp) + F - (Gfgi * Eg) - (Gfgi * Bgi * Efw)\n",
        "We"
      ],
      "metadata": {
        "colab": {
          "base_uri": "https://localhost:8080/"
        },
        "id": "zImI69VgX2iV",
        "outputId": "dba8a559-5a93-4d48-9637-55b284d8ce4d"
      },
      "execution_count": null,
      "outputs": [
        {
          "output_type": "execute_result",
          "data": {
            "text/plain": [
              "array([       0.        ,  -391769.43931137,  1794213.15521873,\n",
              "        2947743.77539444,  4824099.06667848,  6620390.00001773,\n",
              "        9156722.88873721, 11253030.33472   , 13132682.96753925,\n",
              "       14729619.10873369, 15715811.09711241, 17180391.69027949,\n",
              "       20684302.19404558, 23730577.39849316, 27115561.71969114,\n",
              "       30020925.41883038, 30726167.7060076 , 31604852.51883038,\n",
              "       33585854.21883038, 34928897.41626581, 36243003.10823141])"
            ]
          },
          "metadata": {},
          "execution_count": 22
        }
      ]
    },
    {
      "cell_type": "code",
      "source": [
        "result = pd.DataFrame({\"Years\": time, \"Pressure\": pressure, \"F(million bbl)\": F_conv, \"Eg(RB/Mscf)\": Eg * 1E+03, \"F/Eg(Bscf)\": F_Eg, \"z\": z, \"We(res bbl)\": We, \"p/z(psia)\": p_z})\n",
        "print(\"Table 9.5-Calculated Parameters for Example 9.4\")\n",
        "result"
      ],
      "metadata": {
        "colab": {
          "base_uri": "https://localhost:8080/",
          "height": 807
        },
        "id": "tCsbQuaxX5uF",
        "outputId": "c98028fb-919d-4f4a-8328-9e7891ef9424"
      },
      "execution_count": null,
      "outputs": [
        {
          "output_type": "stream",
          "name": "stdout",
          "text": [
            "Table 9.5-Calculated Parameters for Example 9.4\n"
          ]
        },
        {
          "output_type": "execute_result",
          "data": {
            "text/plain": [
              "    Years  Pressure  F(million bbl)  Eg(RB/Mscf)   F/Eg(Bscf)         z  \\\n",
              "0     0.0    8490.0        0.000000       0.0000          NaN  1.271392   \n",
              "1     0.5    8330.0        0.959516       0.0054   177.688222  1.259897   \n",
              "2     1.0    8323.0        3.195192       0.0056   570.570000  1.259299   \n",
              "3     1.5    8166.0        5.742156       0.0112   512.692500  1.248217   \n",
              "4     2.0    8100.0        8.214712       0.0136   604.022941  1.243516   \n",
              "5     2.5    7905.0       11.843856       0.0210   563.993133  1.229789   \n",
              "6     3.0    7854.0       14.873197       0.0230   646.660722  1.226208   \n",
              "7     3.5    7858.0       16.919654       0.0228   742.090105  1.226397   \n",
              "8     4.0    7900.0       18.401386       0.0212   867.989887  1.229449   \n",
              "9     4.5    7971.0       19.305422       0.0184  1049.207739  1.234314   \n",
              "10    5.0    7883.0       21.133098       0.0218   969.408165  1.228114   \n",
              "11    5.5    7728.0       24.126306       0.0280   861.653800  1.217244   \n",
              "12    6.0    7550.0       29.438280       0.0355   829.247332  1.204899   \n",
              "13    6.5    7446.0       33.487339       0.0400   837.183470  1.197586   \n",
              "14    7.0    7400.0       37.092435       0.0421   881.055463  1.194494   \n",
              "15    7.5    7600.0       37.538338       0.0333  1127.277429  1.208245   \n",
              "16    8.0    7675.0       37.438778       0.0302  1239.694629  1.213575   \n",
              "17    8.5    7600.0       38.778104       0.0333  1164.507631  1.208245   \n",
              "18    9.0    7600.0       40.553706       0.0333  1217.828997  1.208245   \n",
              "19    9.5    7615.0       41.392721       0.0327  1265.832434  1.209363   \n",
              "20   10.0    7623.0       41.781750       0.0324  1289.560198  1.210000   \n",
              "\n",
              "     We(res bbl)    p/z(psia)  \n",
              "0   0.000000e+00  6677.720168  \n",
              "1  -3.917694e+05  6611.651587  \n",
              "2   1.794213e+06  6609.232597  \n",
              "3   2.947744e+06  6542.131697  \n",
              "4   4.824099e+06  6513.788323  \n",
              "5   6.620390e+06  6427.931946  \n",
              "6   9.156723e+06  6405.112346  \n",
              "7   1.125303e+07  6407.386841  \n",
              "8   1.313268e+07  6425.642707  \n",
              "9   1.472962e+07  6457.838119  \n",
              "10  1.571581e+07  6418.785227  \n",
              "11  1.718039e+07  6348.768201  \n",
              "12  2.068430e+07  6266.085373  \n",
              "13  2.373058e+07  6217.507553  \n",
              "14  2.711556e+07  6195.091813  \n",
              "15  3.002093e+07  6290.115002  \n",
              "16  3.072617e+07  6324.289805  \n",
              "17  3.160485e+07  6290.115002  \n",
              "18  3.358585e+07  6290.115002  \n",
              "19  3.492890e+07  6296.703306  \n",
              "20  3.624300e+07  6300.000000  "
            ],
            "text/html": [
              "\n",
              "  <div id=\"df-3d7f4037-b032-4827-b48e-ecc18be409a4\">\n",
              "    <div class=\"colab-df-container\">\n",
              "      <div>\n",
              "<style scoped>\n",
              "    .dataframe tbody tr th:only-of-type {\n",
              "        vertical-align: middle;\n",
              "    }\n",
              "\n",
              "    .dataframe tbody tr th {\n",
              "        vertical-align: top;\n",
              "    }\n",
              "\n",
              "    .dataframe thead th {\n",
              "        text-align: right;\n",
              "    }\n",
              "</style>\n",
              "<table border=\"1\" class=\"dataframe\">\n",
              "  <thead>\n",
              "    <tr style=\"text-align: right;\">\n",
              "      <th></th>\n",
              "      <th>Years</th>\n",
              "      <th>Pressure</th>\n",
              "      <th>F(million bbl)</th>\n",
              "      <th>Eg(RB/Mscf)</th>\n",
              "      <th>F/Eg(Bscf)</th>\n",
              "      <th>z</th>\n",
              "      <th>We(res bbl)</th>\n",
              "      <th>p/z(psia)</th>\n",
              "    </tr>\n",
              "  </thead>\n",
              "  <tbody>\n",
              "    <tr>\n",
              "      <th>0</th>\n",
              "      <td>0.0</td>\n",
              "      <td>8490.0</td>\n",
              "      <td>0.000000</td>\n",
              "      <td>0.0000</td>\n",
              "      <td>NaN</td>\n",
              "      <td>1.271392</td>\n",
              "      <td>0.000000e+00</td>\n",
              "      <td>6677.720168</td>\n",
              "    </tr>\n",
              "    <tr>\n",
              "      <th>1</th>\n",
              "      <td>0.5</td>\n",
              "      <td>8330.0</td>\n",
              "      <td>0.959516</td>\n",
              "      <td>0.0054</td>\n",
              "      <td>177.688222</td>\n",
              "      <td>1.259897</td>\n",
              "      <td>-3.917694e+05</td>\n",
              "      <td>6611.651587</td>\n",
              "    </tr>\n",
              "    <tr>\n",
              "      <th>2</th>\n",
              "      <td>1.0</td>\n",
              "      <td>8323.0</td>\n",
              "      <td>3.195192</td>\n",
              "      <td>0.0056</td>\n",
              "      <td>570.570000</td>\n",
              "      <td>1.259299</td>\n",
              "      <td>1.794213e+06</td>\n",
              "      <td>6609.232597</td>\n",
              "    </tr>\n",
              "    <tr>\n",
              "      <th>3</th>\n",
              "      <td>1.5</td>\n",
              "      <td>8166.0</td>\n",
              "      <td>5.742156</td>\n",
              "      <td>0.0112</td>\n",
              "      <td>512.692500</td>\n",
              "      <td>1.248217</td>\n",
              "      <td>2.947744e+06</td>\n",
              "      <td>6542.131697</td>\n",
              "    </tr>\n",
              "    <tr>\n",
              "      <th>4</th>\n",
              "      <td>2.0</td>\n",
              "      <td>8100.0</td>\n",
              "      <td>8.214712</td>\n",
              "      <td>0.0136</td>\n",
              "      <td>604.022941</td>\n",
              "      <td>1.243516</td>\n",
              "      <td>4.824099e+06</td>\n",
              "      <td>6513.788323</td>\n",
              "    </tr>\n",
              "    <tr>\n",
              "      <th>5</th>\n",
              "      <td>2.5</td>\n",
              "      <td>7905.0</td>\n",
              "      <td>11.843856</td>\n",
              "      <td>0.0210</td>\n",
              "      <td>563.993133</td>\n",
              "      <td>1.229789</td>\n",
              "      <td>6.620390e+06</td>\n",
              "      <td>6427.931946</td>\n",
              "    </tr>\n",
              "    <tr>\n",
              "      <th>6</th>\n",
              "      <td>3.0</td>\n",
              "      <td>7854.0</td>\n",
              "      <td>14.873197</td>\n",
              "      <td>0.0230</td>\n",
              "      <td>646.660722</td>\n",
              "      <td>1.226208</td>\n",
              "      <td>9.156723e+06</td>\n",
              "      <td>6405.112346</td>\n",
              "    </tr>\n",
              "    <tr>\n",
              "      <th>7</th>\n",
              "      <td>3.5</td>\n",
              "      <td>7858.0</td>\n",
              "      <td>16.919654</td>\n",
              "      <td>0.0228</td>\n",
              "      <td>742.090105</td>\n",
              "      <td>1.226397</td>\n",
              "      <td>1.125303e+07</td>\n",
              "      <td>6407.386841</td>\n",
              "    </tr>\n",
              "    <tr>\n",
              "      <th>8</th>\n",
              "      <td>4.0</td>\n",
              "      <td>7900.0</td>\n",
              "      <td>18.401386</td>\n",
              "      <td>0.0212</td>\n",
              "      <td>867.989887</td>\n",
              "      <td>1.229449</td>\n",
              "      <td>1.313268e+07</td>\n",
              "      <td>6425.642707</td>\n",
              "    </tr>\n",
              "    <tr>\n",
              "      <th>9</th>\n",
              "      <td>4.5</td>\n",
              "      <td>7971.0</td>\n",
              "      <td>19.305422</td>\n",
              "      <td>0.0184</td>\n",
              "      <td>1049.207739</td>\n",
              "      <td>1.234314</td>\n",
              "      <td>1.472962e+07</td>\n",
              "      <td>6457.838119</td>\n",
              "    </tr>\n",
              "    <tr>\n",
              "      <th>10</th>\n",
              "      <td>5.0</td>\n",
              "      <td>7883.0</td>\n",
              "      <td>21.133098</td>\n",
              "      <td>0.0218</td>\n",
              "      <td>969.408165</td>\n",
              "      <td>1.228114</td>\n",
              "      <td>1.571581e+07</td>\n",
              "      <td>6418.785227</td>\n",
              "    </tr>\n",
              "    <tr>\n",
              "      <th>11</th>\n",
              "      <td>5.5</td>\n",
              "      <td>7728.0</td>\n",
              "      <td>24.126306</td>\n",
              "      <td>0.0280</td>\n",
              "      <td>861.653800</td>\n",
              "      <td>1.217244</td>\n",
              "      <td>1.718039e+07</td>\n",
              "      <td>6348.768201</td>\n",
              "    </tr>\n",
              "    <tr>\n",
              "      <th>12</th>\n",
              "      <td>6.0</td>\n",
              "      <td>7550.0</td>\n",
              "      <td>29.438280</td>\n",
              "      <td>0.0355</td>\n",
              "      <td>829.247332</td>\n",
              "      <td>1.204899</td>\n",
              "      <td>2.068430e+07</td>\n",
              "      <td>6266.085373</td>\n",
              "    </tr>\n",
              "    <tr>\n",
              "      <th>13</th>\n",
              "      <td>6.5</td>\n",
              "      <td>7446.0</td>\n",
              "      <td>33.487339</td>\n",
              "      <td>0.0400</td>\n",
              "      <td>837.183470</td>\n",
              "      <td>1.197586</td>\n",
              "      <td>2.373058e+07</td>\n",
              "      <td>6217.507553</td>\n",
              "    </tr>\n",
              "    <tr>\n",
              "      <th>14</th>\n",
              "      <td>7.0</td>\n",
              "      <td>7400.0</td>\n",
              "      <td>37.092435</td>\n",
              "      <td>0.0421</td>\n",
              "      <td>881.055463</td>\n",
              "      <td>1.194494</td>\n",
              "      <td>2.711556e+07</td>\n",
              "      <td>6195.091813</td>\n",
              "    </tr>\n",
              "    <tr>\n",
              "      <th>15</th>\n",
              "      <td>7.5</td>\n",
              "      <td>7600.0</td>\n",
              "      <td>37.538338</td>\n",
              "      <td>0.0333</td>\n",
              "      <td>1127.277429</td>\n",
              "      <td>1.208245</td>\n",
              "      <td>3.002093e+07</td>\n",
              "      <td>6290.115002</td>\n",
              "    </tr>\n",
              "    <tr>\n",
              "      <th>16</th>\n",
              "      <td>8.0</td>\n",
              "      <td>7675.0</td>\n",
              "      <td>37.438778</td>\n",
              "      <td>0.0302</td>\n",
              "      <td>1239.694629</td>\n",
              "      <td>1.213575</td>\n",
              "      <td>3.072617e+07</td>\n",
              "      <td>6324.289805</td>\n",
              "    </tr>\n",
              "    <tr>\n",
              "      <th>17</th>\n",
              "      <td>8.5</td>\n",
              "      <td>7600.0</td>\n",
              "      <td>38.778104</td>\n",
              "      <td>0.0333</td>\n",
              "      <td>1164.507631</td>\n",
              "      <td>1.208245</td>\n",
              "      <td>3.160485e+07</td>\n",
              "      <td>6290.115002</td>\n",
              "    </tr>\n",
              "    <tr>\n",
              "      <th>18</th>\n",
              "      <td>9.0</td>\n",
              "      <td>7600.0</td>\n",
              "      <td>40.553706</td>\n",
              "      <td>0.0333</td>\n",
              "      <td>1217.828997</td>\n",
              "      <td>1.208245</td>\n",
              "      <td>3.358585e+07</td>\n",
              "      <td>6290.115002</td>\n",
              "    </tr>\n",
              "    <tr>\n",
              "      <th>19</th>\n",
              "      <td>9.5</td>\n",
              "      <td>7615.0</td>\n",
              "      <td>41.392721</td>\n",
              "      <td>0.0327</td>\n",
              "      <td>1265.832434</td>\n",
              "      <td>1.209363</td>\n",
              "      <td>3.492890e+07</td>\n",
              "      <td>6296.703306</td>\n",
              "    </tr>\n",
              "    <tr>\n",
              "      <th>20</th>\n",
              "      <td>10.0</td>\n",
              "      <td>7623.0</td>\n",
              "      <td>41.781750</td>\n",
              "      <td>0.0324</td>\n",
              "      <td>1289.560198</td>\n",
              "      <td>1.210000</td>\n",
              "      <td>3.624300e+07</td>\n",
              "      <td>6300.000000</td>\n",
              "    </tr>\n",
              "  </tbody>\n",
              "</table>\n",
              "</div>\n",
              "      <button class=\"colab-df-convert\" onclick=\"convertToInteractive('df-3d7f4037-b032-4827-b48e-ecc18be409a4')\"\n",
              "              title=\"Convert this dataframe to an interactive table.\"\n",
              "              style=\"display:none;\">\n",
              "        \n",
              "  <svg xmlns=\"http://www.w3.org/2000/svg\" height=\"24px\"viewBox=\"0 0 24 24\"\n",
              "       width=\"24px\">\n",
              "    <path d=\"M0 0h24v24H0V0z\" fill=\"none\"/>\n",
              "    <path d=\"M18.56 5.44l.94 2.06.94-2.06 2.06-.94-2.06-.94-.94-2.06-.94 2.06-2.06.94zm-11 1L8.5 8.5l.94-2.06 2.06-.94-2.06-.94L8.5 2.5l-.94 2.06-2.06.94zm10 10l.94 2.06.94-2.06 2.06-.94-2.06-.94-.94-2.06-.94 2.06-2.06.94z\"/><path d=\"M17.41 7.96l-1.37-1.37c-.4-.4-.92-.59-1.43-.59-.52 0-1.04.2-1.43.59L10.3 9.45l-7.72 7.72c-.78.78-.78 2.05 0 2.83L4 21.41c.39.39.9.59 1.41.59.51 0 1.02-.2 1.41-.59l7.78-7.78 2.81-2.81c.8-.78.8-2.07 0-2.86zM5.41 20L4 18.59l7.72-7.72 1.47 1.35L5.41 20z\"/>\n",
              "  </svg>\n",
              "      </button>\n",
              "      \n",
              "  <style>\n",
              "    .colab-df-container {\n",
              "      display:flex;\n",
              "      flex-wrap:wrap;\n",
              "      gap: 12px;\n",
              "    }\n",
              "\n",
              "    .colab-df-convert {\n",
              "      background-color: #E8F0FE;\n",
              "      border: none;\n",
              "      border-radius: 50%;\n",
              "      cursor: pointer;\n",
              "      display: none;\n",
              "      fill: #1967D2;\n",
              "      height: 32px;\n",
              "      padding: 0 0 0 0;\n",
              "      width: 32px;\n",
              "    }\n",
              "\n",
              "    .colab-df-convert:hover {\n",
              "      background-color: #E2EBFA;\n",
              "      box-shadow: 0px 1px 2px rgba(60, 64, 67, 0.3), 0px 1px 3px 1px rgba(60, 64, 67, 0.15);\n",
              "      fill: #174EA6;\n",
              "    }\n",
              "\n",
              "    [theme=dark] .colab-df-convert {\n",
              "      background-color: #3B4455;\n",
              "      fill: #D2E3FC;\n",
              "    }\n",
              "\n",
              "    [theme=dark] .colab-df-convert:hover {\n",
              "      background-color: #434B5C;\n",
              "      box-shadow: 0px 1px 3px 1px rgba(0, 0, 0, 0.15);\n",
              "      filter: drop-shadow(0px 1px 2px rgba(0, 0, 0, 0.3));\n",
              "      fill: #FFFFFF;\n",
              "    }\n",
              "  </style>\n",
              "\n",
              "      <script>\n",
              "        const buttonEl =\n",
              "          document.querySelector('#df-3d7f4037-b032-4827-b48e-ecc18be409a4 button.colab-df-convert');\n",
              "        buttonEl.style.display =\n",
              "          google.colab.kernel.accessAllowed ? 'block' : 'none';\n",
              "\n",
              "        async function convertToInteractive(key) {\n",
              "          const element = document.querySelector('#df-3d7f4037-b032-4827-b48e-ecc18be409a4');\n",
              "          const dataTable =\n",
              "            await google.colab.kernel.invokeFunction('convertToInteractive',\n",
              "                                                     [key], {});\n",
              "          if (!dataTable) return;\n",
              "\n",
              "          const docLinkHtml = 'Like what you see? Visit the ' +\n",
              "            '<a target=\"_blank\" href=https://colab.research.google.com/notebooks/data_table.ipynb>data table notebook</a>'\n",
              "            + ' to learn more about interactive tables.';\n",
              "          element.innerHTML = '';\n",
              "          dataTable['output_type'] = 'display_data';\n",
              "          await google.colab.output.renderOutput(dataTable, element);\n",
              "          const docLink = document.createElement('div');\n",
              "          docLink.innerHTML = docLinkHtml;\n",
              "          element.appendChild(docLink);\n",
              "        }\n",
              "      </script>\n",
              "    </div>\n",
              "  </div>\n",
              "  "
            ]
          },
          "metadata": {},
          "execution_count": 23
        }
      ]
    },
    {
      "cell_type": "code",
      "source": [
        "\n",
        "\n",
        "# visualize We\n",
        "plt.plot(time, We, '.-')\n",
        "plt.ylim(ymin=0)\n",
        "plt.xlabel(\"Time (years)\"); plt.ylabel(\"Aquifer influx $W_e$ (res bbl)\")\n",
        "plt.title(\"Aquifer Influx over Production Years\")\n",
        "\n"
      ],
      "metadata": {
        "colab": {
          "base_uri": "https://localhost:8080/",
          "height": 312
        },
        "id": "BrhabDU_YcN5",
        "outputId": "38db19cd-6945-44ea-8ef6-da8ce6b7b4e0"
      },
      "execution_count": null,
      "outputs": [
        {
          "output_type": "execute_result",
          "data": {
            "text/plain": [
              "Text(0.5, 1.0, 'Aquifer Influx over Production Years')"
            ]
          },
          "metadata": {},
          "execution_count": 24
        },
        {
          "output_type": "display_data",
          "data": {
            "text/plain": [
              "<Figure size 432x288 with 1 Axes>"
            ],
            "image/png": "[encoded data removed]"
          },
          "metadata": {
            "needs_background": "light"
          }
        }
      ]
    },
    {
      "cell_type": "code",
      "source": [
        "# Task. Calculate OGIP using Plot 9.6 and 9.7\n",
        "\n",
        "# knowns\n",
        "temp = 266 # fahrenheit\n",
        "swi = 0.35 # initial water saturation\n",
        "cf = 15E-06 # psi^-1\n",
        "cw = 3E-06 # psi^-1\n",
        "\n",
        "columns = ['date', 'p', 'z', 'Gp', 'Np']\n",
        "data = pd.read_csv('/content/reservoir-engineering/Unit 9 Dry-Gas Reservoirs/data/Table 9.6-Reservoir and Production for Example 9.5.csv', names=columns)\n",
        "\n",
        "\" calculate equivalence of condensate to gas, use 1 stb = 700 scf \"\n",
        "factor = 750\n",
        "Gp_equi = ((data['Np'].values * 1E+6) * 700) / 1E+9\n",
        "\n",
        "# preproc\n",
        "Gp = data['Gp'].values \n",
        "Gp = Gp.astype(np.float) # convert from string (???) to float\n",
        "\n",
        "\"calculate total gas production\"\n",
        "Gp_total = Gp_equi + Gp\n",
        "\n",
        "\"Input gas FVF\"\n",
        "# no information about Tc and pc that can be used to calculate Bg\n",
        "\n",
        "Bg = np.array([3111, 3134, 3176, 3212, 3244, 3288, 3347, 3378, 3449, 3505, 3542, 3734, 4210, 4438, 4880, 5402]) * 1E-06\n",
        "\n",
        "\"Compute Eg\"\n",
        "\n",
        "Eg = []\n",
        "for i in range(len(Bg)-1):\n",
        "  Bg_dif = Bg[i+1]-Bg[0]\n",
        "  Eg.append(float(Bg_dif))\n",
        "Eg = np.append(0, Eg)\n",
        "\n",
        "\"Compute p/z\"\n",
        "pz = data['p'].values / data['z'].values\n",
        "\n",
        "\"Compute F\"\n",
        "F = Gp_total * Bg\n",
        "\n",
        "\"Compute parameters for Plot 9.6 and 9.7\"\n",
        "\n",
        "# Eg+Bgi*Efw\n",
        "Efw = ((cf + cw * swi) / (1 - swi)) * ((data['p'].values)[0] - (data['p'].values))\n",
        "Eg_Bgi_Efw = Eg + Bg[0] * Efw\n",
        "\n",
        "# F/(Eg+Bgi*Efw)\n",
        "F_Eg_Bgi_Efw = F / Eg_Bgi_Efw\n",
        "\n",
        "# (p/z)*(1-Efw)\n",
        "p_z_Efw = pz * (1 - Efw)\n",
        "\n",
        "# create dataframe for Table 9.7\n",
        "table97 = pd.DataFrame({'Total Gp': Gp_total, 'Eg': Eg, 'p/z': pz, 'F': F, \n",
        "                        '(Eg+Bgi*Efw)': Eg_Bgi_Efw, \n",
        "                        'F/(Eg+Bgi*Efw)': F_Eg_Bgi_Efw,\n",
        "                        '(p/z)*(1-Efw)': p_z_Efw})\n",
        "table97\n"
      ],
      "metadata": {
        "colab": {
          "base_uri": "https://localhost:8080/",
          "height": 685
        },
        "id": "HE-ivE2rYg96",
        "outputId": "3dd63b82-945b-40cb-89da-524732a5dc4c"
      },
      "execution_count": null,
      "outputs": [
        {
          "output_type": "stream",
          "name": "stderr",
          "text": [
            "/usr/local/lib/python3.7/dist-packages/ipykernel_launcher.py:18: DeprecationWarning: `np.float` is a deprecated alias for the builtin `float`. To silence this warning, use `float` by itself. Doing this will not modify any behavior and is safe. If you specifically wanted the numpy scalar type, use `np.float64` here.\n",
            "Deprecated in NumPy 1.20; for more details and guidance: https://numpy.org/devdocs/release/1.20.0-notes.html#deprecations\n",
            "/usr/local/lib/python3.7/dist-packages/ipykernel_launcher.py:49: RuntimeWarning: invalid value encountered in true_divide\n"
          ]
        },
        {
          "output_type": "execute_result",
          "data": {
            "text/plain": [
              "    Total Gp        Eg          p/z           F  (Eg+Bgi*Efw)  F/(Eg+Bgi*Efw)  \\\n",
              "0       0.00  0.000000  6602.083333    0.000000      0.000000             NaN   \n",
              "1     413.43  0.000023  6552.891396    1.295690      0.000040    32789.136285   \n",
              "2    1728.23  0.000065  6467.195386    5.488858      0.000106    51659.289234   \n",
              "3    3394.43  0.000101  6395.089286   10.902909      0.000171    63738.156383   \n",
              "4    4482.27  0.000133  6331.306991   14.540484      0.000223    65127.773191   \n",
              "5    5788.33  0.000177  6247.269891   19.032029      0.000292    65161.887087   \n",
              "6    7930.94  0.000236  6136.400323   26.544856      0.000382    69441.700605   \n",
              "7    9204.76  0.000267  6080.459770   31.093679      0.000428    72581.944694   \n",
              "8   11052.92  0.000338  5954.081633   38.121521      0.000530    71869.291004   \n",
              "9   12363.91  0.000394  5859.633827   43.335505      0.000608    71273.823968   \n",
              "10  13446.85  0.000431  5798.580302   47.628743      0.000659    72241.117227   \n",
              "11  18141.21  0.000623  5500.000000   67.739278      0.000911    74395.527016   \n",
              "12  24021.86  0.001099  4878.198567  101.132031      0.001463    69117.353325   \n",
              "13  29483.98  0.001327  4628.232759  130.849903      0.001727    75750.756401   \n",
              "14  34061.90  0.001769  4208.754209  166.222072      0.002211    75171.433091   \n",
              "15  38435.36  0.002291  3802.107728  207.627815      0.002772    74905.072367   \n",
              "\n",
              "    (p/z)*(1-Efw)  \n",
              "0     6602.083333  \n",
              "1     6518.103104  \n",
              "2     6381.441867  \n",
              "3     6251.075810  \n",
              "4     6147.613859  \n",
              "5     6016.189144  \n",
              "6     5847.902654  \n",
              "7     5765.014404  \n",
              "8     5585.796493  \n",
              "9     5456.533390  \n",
              "10    5373.048364  \n",
              "11    4991.671808  \n",
              "12    4307.126248  \n",
              "13    4032.596291  \n",
              "14    3610.464582  \n",
              "15    3214.401313  "
            ],
            "text/html": [
              "\n",
              "  <div id=\"df-fcc6cb4c-b75d-463d-90ba-61a0bd5e7d46\">\n",
              "    <div class=\"colab-df-container\">\n",
              "      <div>\n",
              "<style scoped>\n",
              "    .dataframe tbody tr th:only-of-type {\n",
              "        vertical-align: middle;\n",
              "    }\n",
              "\n",
              "    .dataframe tbody tr th {\n",
              "        vertical-align: top;\n",
              "    }\n",
              "\n",
              "    .dataframe thead th {\n",
              "        text-align: right;\n",
              "    }\n",
              "</style>\n",
              "<table border=\"1\" class=\"dataframe\">\n",
              "  <thead>\n",
              "    <tr style=\"text-align: right;\">\n",
              "      <th></th>\n",
              "      <th>Total Gp</th>\n",
              "      <th>Eg</th>\n",
              "      <th>p/z</th>\n",
              "      <th>F</th>\n",
              "      <th>(Eg+Bgi*Efw)</th>\n",
              "      <th>F/(Eg+Bgi*Efw)</th>\n",
              "      <th>(p/z)*(1-Efw)</th>\n",
              "    </tr>\n",
              "  </thead>\n",
              "  <tbody>\n",
              "    <tr>\n",
              "      <th>0</th>\n",
              "      <td>0.00</td>\n",
              "      <td>0.000000</td>\n",
              "      <td>6602.083333</td>\n",
              "      <td>0.000000</td>\n",
              "      <td>0.000000</td>\n",
              "      <td>NaN</td>\n",
              "      <td>6602.083333</td>\n",
              "    </tr>\n",
              "    <tr>\n",
              "      <th>1</th>\n",
              "      <td>413.43</td>\n",
              "      <td>0.000023</td>\n",
              "      <td>6552.891396</td>\n",
              "      <td>1.295690</td>\n",
              "      <td>0.000040</td>\n",
              "      <td>32789.136285</td>\n",
              "      <td>6518.103104</td>\n",
              "    </tr>\n",
              "    <tr>\n",
              "      <th>2</th>\n",
              "      <td>1728.23</td>\n",
              "      <td>0.000065</td>\n",
              "      <td>6467.195386</td>\n",
              "      <td>5.488858</td>\n",
              "      <td>0.000106</td>\n",
              "      <td>51659.289234</td>\n",
              "      <td>6381.441867</td>\n",
              "    </tr>\n",
              "    <tr>\n",
              "      <th>3</th>\n",
              "      <td>3394.43</td>\n",
              "      <td>0.000101</td>\n",
              "      <td>6395.089286</td>\n",
              "      <td>10.902909</td>\n",
              "      <td>0.000171</td>\n",
              "      <td>63738.156383</td>\n",
              "      <td>6251.075810</td>\n",
              "    </tr>\n",
              "    <tr>\n",
              "      <th>4</th>\n",
              "      <td>4482.27</td>\n",
              "      <td>0.000133</td>\n",
              "      <td>6331.306991</td>\n",
              "      <td>14.540484</td>\n",
              "      <td>0.000223</td>\n",
              "      <td>65127.773191</td>\n",
              "      <td>6147.613859</td>\n",
              "    </tr>\n",
              "    <tr>\n",
              "      <th>5</th>\n",
              "      <td>5788.33</td>\n",
              "      <td>0.000177</td>\n",
              "      <td>6247.269891</td>\n",
              "      <td>19.032029</td>\n",
              "      <td>0.000292</td>\n",
              "      <td>65161.887087</td>\n",
              "      <td>6016.189144</td>\n",
              "    </tr>\n",
              "    <tr>\n",
              "      <th>6</th>\n",
              "      <td>7930.94</td>\n",
              "      <td>0.000236</td>\n",
              "      <td>6136.400323</td>\n",
              "      <td>26.544856</td>\n",
              "      <td>0.000382</td>\n",
              "      <td>69441.700605</td>\n",
              "      <td>5847.902654</td>\n",
              "    </tr>\n",
              "    <tr>\n",
              "      <th>7</th>\n",
              "      <td>9204.76</td>\n",
              "      <td>0.000267</td>\n",
              "      <td>6080.459770</td>\n",
              "      <td>31.093679</td>\n",
              "      <td>0.000428</td>\n",
              "      <td>72581.944694</td>\n",
              "      <td>5765.014404</td>\n",
              "    </tr>\n",
              "    <tr>\n",
              "      <th>8</th>\n",
              "      <td>11052.92</td>\n",
              "      <td>0.000338</td>\n",
              "      <td>5954.081633</td>\n",
              "      <td>38.121521</td>\n",
              "      <td>0.000530</td>\n",
              "      <td>71869.291004</td>\n",
              "      <td>5585.796493</td>\n",
              "    </tr>\n",
              "    <tr>\n",
              "      <th>9</th>\n",
              "      <td>12363.91</td>\n",
              "      <td>0.000394</td>\n",
              "      <td>5859.633827</td>\n",
              "      <td>43.335505</td>\n",
              "      <td>0.000608</td>\n",
              "      <td>71273.823968</td>\n",
              "      <td>5456.533390</td>\n",
              "    </tr>\n",
              "    <tr>\n",
              "      <th>10</th>\n",
              "      <td>13446.85</td>\n",
              "      <td>0.000431</td>\n",
              "      <td>5798.580302</td>\n",
              "      <td>47.628743</td>\n",
              "      <td>0.000659</td>\n",
              "      <td>72241.117227</td>\n",
              "      <td>5373.048364</td>\n",
              "    </tr>\n",
              "    <tr>\n",
              "      <th>11</th>\n",
              "      <td>18141.21</td>\n",
              "      <td>0.000623</td>\n",
              "      <td>5500.000000</td>\n",
              "      <td>67.739278</td>\n",
              "      <td>0.000911</td>\n",
              "      <td>74395.527016</td>\n",
              "      <td>4991.671808</td>\n",
              "    </tr>\n",
              "    <tr>\n",
              "      <th>12</th>\n",
              "      <td>24021.86</td>\n",
              "      <td>0.001099</td>\n",
              "      <td>4878.198567</td>\n",
              "      <td>101.132031</td>\n",
              "      <td>0.001463</td>\n",
              "      <td>69117.353325</td>\n",
              "      <td>4307.126248</td>\n",
              "    </tr>\n",
              "    <tr>\n",
              "      <th>13</th>\n",
              "      <td>29483.98</td>\n",
              "      <td>0.001327</td>\n",
              "      <td>4628.232759</td>\n",
              "      <td>130.849903</td>\n",
              "      <td>0.001727</td>\n",
              "      <td>75750.756401</td>\n",
              "      <td>4032.596291</td>\n",
              "    </tr>\n",
              "    <tr>\n",
              "      <th>14</th>\n",
              "      <td>34061.90</td>\n",
              "      <td>0.001769</td>\n",
              "      <td>4208.754209</td>\n",
              "      <td>166.222072</td>\n",
              "      <td>0.002211</td>\n",
              "      <td>75171.433091</td>\n",
              "      <td>3610.464582</td>\n",
              "    </tr>\n",
              "    <tr>\n",
              "      <th>15</th>\n",
              "      <td>38435.36</td>\n",
              "      <td>0.002291</td>\n",
              "      <td>3802.107728</td>\n",
              "      <td>207.627815</td>\n",
              "      <td>0.002772</td>\n",
              "      <td>74905.072367</td>\n",
              "      <td>3214.401313</td>\n",
              "    </tr>\n",
              "  </tbody>\n",
              "</table>\n",
              "</div>\n",
              "      <button class=\"colab-df-convert\" onclick=\"convertToInteractive('df-fcc6cb4c-b75d-463d-90ba-61a0bd5e7d46')\"\n",
              "              title=\"Convert this dataframe to an interactive table.\"\n",
              "              style=\"display:none;\">\n",
              "        \n",
              "  <svg xmlns=\"http://www.w3.org/2000/svg\" height=\"24px\"viewBox=\"0 0 24 24\"\n",
              "       width=\"24px\">\n",
              "    <path d=\"M0 0h24v24H0V0z\" fill=\"none\"/>\n",
              "    <path d=\"M18.56 5.44l.94 2.06.94-2.06 2.06-.94-2.06-.94-.94-2.06-.94 2.06-2.06.94zm-11 1L8.5 8.5l.94-2.06 2.06-.94-2.06-.94L8.5 2.5l-.94 2.06-2.06.94zm10 10l.94 2.06.94-2.06 2.06-.94-2.06-.94-.94-2.06-.94 2.06-2.06.94z\"/><path d=\"M17.41 7.96l-1.37-1.37c-.4-.4-.92-.59-1.43-.59-.52 0-1.04.2-1.43.59L10.3 9.45l-7.72 7.72c-.78.78-.78 2.05 0 2.83L4 21.41c.39.39.9.59 1.41.59.51 0 1.02-.2 1.41-.59l7.78-7.78 2.81-2.81c.8-.78.8-2.07 0-2.86zM5.41 20L4 18.59l7.72-7.72 1.47 1.35L5.41 20z\"/>\n",
              "  </svg>\n",
              "      </button>\n",
              "      \n",
              "  <style>\n",
              "    .colab-df-container {\n",
              "      display:flex;\n",
              "      flex-wrap:wrap;\n",
              "      gap: 12px;\n",
              "    }\n",
              "\n",
              "    .colab-df-convert {\n",
              "      background-color: #E8F0FE;\n",
              "      border: none;\n",
              "      border-radius: 50%;\n",
              "      cursor: pointer;\n",
              "      display: none;\n",
              "      fill: #1967D2;\n",
              "      height: 32px;\n",
              "      padding: 0 0 0 0;\n",
              "      width: 32px;\n",
              "    }\n",
              "\n",
              "    .colab-df-convert:hover {\n",
              "      background-color: #E2EBFA;\n",
              "      box-shadow: 0px 1px 2px rgba(60, 64, 67, 0.3), 0px 1px 3px 1px rgba(60, 64, 67, 0.15);\n",
              "      fill: #174EA6;\n",
              "    }\n",
              "\n",
              "    [theme=dark] .colab-df-convert {\n",
              "      background-color: #3B4455;\n",
              "      fill: #D2E3FC;\n",
              "    }\n",
              "\n",
              "    [theme=dark] .colab-df-convert:hover {\n",
              "      background-color: #434B5C;\n",
              "      box-shadow: 0px 1px 3px 1px rgba(0, 0, 0, 0.15);\n",
              "      filter: drop-shadow(0px 1px 2px rgba(0, 0, 0, 0.3));\n",
              "      fill: #FFFFFF;\n",
              "    }\n",
              "  </style>\n",
              "\n",
              "      <script>\n",
              "        const buttonEl =\n",
              "          document.querySelector('#df-fcc6cb4c-b75d-463d-90ba-61a0bd5e7d46 button.colab-df-convert');\n",
              "        buttonEl.style.display =\n",
              "          google.colab.kernel.accessAllowed ? 'block' : 'none';\n",
              "\n",
              "        async function convertToInteractive(key) {\n",
              "          const element = document.querySelector('#df-fcc6cb4c-b75d-463d-90ba-61a0bd5e7d46');\n",
              "          const dataTable =\n",
              "            await google.colab.kernel.invokeFunction('convertToInteractive',\n",
              "                                                     [key], {});\n",
              "          if (!dataTable) return;\n",
              "\n",
              "          const docLinkHtml = 'Like what you see? Visit the ' +\n",
              "            '<a target=\"_blank\" href=https://colab.research.google.com/notebooks/data_table.ipynb>data table notebook</a>'\n",
              "            + ' to learn more about interactive tables.';\n",
              "          element.innerHTML = '';\n",
              "          dataTable['output_type'] = 'display_data';\n",
              "          await google.colab.output.renderOutput(dataTable, element);\n",
              "          const docLink = document.createElement('div');\n",
              "          docLink.innerHTML = docLinkHtml;\n",
              "          element.appendChild(docLink);\n",
              "        }\n",
              "      </script>\n",
              "    </div>\n",
              "  </div>\n",
              "  "
            ]
          },
          "metadata": {},
          "execution_count": 25
        }
      ]
    },
    {
      "cell_type": "code",
      "source": [
        "\n",
        "\n",
        "plt.figure(figsize=(15,5))\n",
        "\n",
        "plt.subplot(1,2,1)\n",
        "plt.plot(Eg, F, '.')\n",
        "plt.title('Plot 9.1: F vs Eg', size=15)\n",
        "plt.xlim(xmin=0)\n",
        "plt.xlabel('Eg'); plt.ylabel('F')\n",
        "\n",
        "plt.subplot(1,2,2)\n",
        "plt.plot(data['Gp'].values, pz, '.')\n",
        "plt.title('Plot 9.2: p/z vs Gp', size=15)\n",
        "plt.xlim(xmin=0)\n",
        "plt.xlabel('Gp'); plt.ylabel('p/z')\n",
        "\n",
        "plt.show()\n",
        "\n"
      ],
      "metadata": {
        "colab": {
          "base_uri": "https://localhost:8080/",
          "height": 253
        },
        "id": "FNx2kfIdYqCM",
        "outputId": "f4581f8c-a9d6-4d0d-a0f3-2373768a406d"
      },
      "execution_count": null,
      "outputs": [
        {
          "output_type": "display_data",
          "data": {
            "text/plain": [
              "<Figure size 1080x360 with 2 Axes>"
            ],
            "image/png": "[encoded data removed]"
          },
          "metadata": {
            "needs_background": "light"
          }
        }
      ]
    },
    {
      "cell_type": "code",
      "source": [
        "\n",
        "\n",
        "plt.figure(figsize=(15,5))\n",
        "\n",
        "plt.subplot(1,2,1)\n",
        "plt.plot(Eg_Bgi_Efw, F, '.')\n",
        "plt.title('Plot 9.6: F vs (Eg+Bgi*Efw)', size=15)\n",
        "plt.xlim(xmin=0); plt.ylim(ymin=0)\n",
        "plt.xlabel('Eg+Bgi*Efw'); plt.ylabel('F')\n",
        "\n",
        "plt.subplot(1,2,2)\n",
        "plt.plot(data['Gp'].values, p_z_Efw, '.')\n",
        "plt.title('Plot 9.7: p/z*(1-Efw) vs Gp', size=15)\n",
        "plt.xlim(xmin=0)\n",
        "plt.xlabel('Gp'); plt.ylabel('p/z')\n",
        "\n",
        "plt.show()\n",
        "\n"
      ],
      "metadata": {
        "colab": {
          "base_uri": "https://localhost:8080/",
          "height": 253
        },
        "id": "SmMLaN0FYtVU",
        "outputId": "5f0cdf57-e156-4868-a8dc-47b639322adb"
      },
      "execution_count": null,
      "outputs": [
        {
          "output_type": "display_data",
          "data": {
            "text/plain": [
              "<Figure size 1080x360 with 2 Axes>"
            ],
            "image/png": "[encoded data removed]"
          },
          "metadata": {
            "needs_background": "light"
          }
        }
      ]
    },
    {
      "cell_type": "code",
      "source": [
        "def linear(x, a, b):\n",
        "  # a: slope\n",
        "  # b: intercept\n",
        "  y = a * x + b\n",
        "  return(y)"
      ],
      "metadata": {
        "id": "Y0doDxewYxcp"
      },
      "execution_count": null,
      "outputs": []
    },
    {
      "cell_type": "code",
      "source": [
        "\n",
        "\n",
        "from scipy.optimize import curve_fit\n",
        "\n",
        "popt1, pcov1 = curve_fit(linear, Eg_Bgi_Efw, F)\n",
        "popt2, pcov2 = curve_fit(linear, data['Gp'].values, p_z_Efw)\n",
        "\n",
        "# regression line\n",
        "y1 = popt1[0] * Eg_Bgi_Efw + popt1[1]\n",
        "y2 = popt2[0] * data['Gp'].values + popt2[1]\n",
        "\n",
        "plt.figure(figsize=(15,5))\n",
        "\n",
        "plt.subplot(1,2,1)\n",
        "plt.plot(Eg_Bgi_Efw, F, '.', label='Data')\n",
        "plt.plot(Eg_Bgi_Efw, y1, label='y={}x+({})'.format(np.round(popt1[0], 4), \n",
        "                                                   np.round(popt1[1], 4)))\n",
        "plt.title('Plot 9.6: F vs (Eg+Bgi*Efw)', size=15)\n",
        "plt.xlim(xmin=0); plt.ylim(ymin=0)\n",
        "plt.xlabel('Eg+Bgi*Efw'); plt.ylabel('F')\n",
        "plt.legend(loc='lower right')\n",
        "\n",
        "plt.subplot(1,2,2)\n",
        "plt.plot(data['Gp'].values, p_z_Efw, '.', label='Data')\n",
        "plt.plot(data['Gp'].values, y2, label='y={}x+({})'.format(np.round(popt2[0], 4), \n",
        "                                                          np.round(popt2[1], 4)))\n",
        "plt.title('Plot 9.7: p/z*(1-Efw) vs Gp', size=15)\n",
        "plt.xlim(xmin=0)\n",
        "plt.xlabel('Gp'); plt.ylabel('p/z')\n",
        "plt.legend(loc='lower left')\n",
        "\n",
        "plt.show()\n",
        "\n"
      ],
      "metadata": {
        "colab": {
          "base_uri": "https://localhost:8080/",
          "height": 253
        },
        "id": "E9FEFPNOY1JI",
        "outputId": "a78154dc-4e67-49b8-a89a-9e27aca3672f"
      },
      "execution_count": null,
      "outputs": [
        {
          "output_type": "display_data",
          "data": {
            "text/plain": [
              "<Figure size 1080x360 with 2 Axes>"
            ],
            "image/png": "[encoded data removed]"
          },
          "metadata": {
            "needs_background": "light"
          }
        }
      ]
    },
    {
      "cell_type": "code",
      "source": [
        "\n",
        "\n",
        "ogip1 = popt1[0]\n",
        "ogip2 = np.abs(popt2[1] / popt2[0])\n",
        "print('OGIP from Plot 9.6:', ogip1 * 1E-03, 'Bscf')\n",
        "print('OGIP from Plot 9.7:', ogip2 * 1E-03, 'Bscf')\n",
        "\n"
      ],
      "metadata": {
        "colab": {
          "base_uri": "https://localhost:8080/"
        },
        "id": "K4-WEaB6Y4bf",
        "outputId": "5f5c236e-a5d9-4675-ab96-e405db7fa5b3"
      },
      "execution_count": null,
      "outputs": [
        {
          "output_type": "stream",
          "name": "stdout",
          "text": [
            "OGIP from Plot 9.6: 75.41818793272009 Bscf\n",
            "OGIP from Plot 9.7: 71.87063932161676 Bscf\n"
          ]
        }
      ]
    },
    {
      "cell_type": "code",
      "source": [
        "\"Plot more than one graphs in one plot matplotlib\"\n",
        "\n",
        "import matplotlib.pyplot as plt \n",
        "\n",
        "x = [1, 2, 3, 4, 5, 6, 7]\n",
        "y1 = [20, 34, 56, 10, 70, 80, 90]\n",
        "y2 = [2, 3, 6, 10, 1, 3, 6]\n",
        "y3 = [100, 200, 300, 200, 100, 90, 80]\n",
        "\n",
        "fig = plt.figure()\n",
        "host = fig.add_subplot(111)\n",
        "\n",
        "par1 = host.twinx()\n",
        "par2 = host.twinx()\n",
        "\n",
        "# host.set_xlim(0, 2)\n",
        "# host.set_ylim(0, 2)\n",
        "# par1.set_ylim(0, 4)\n",
        "# par2.set_ylim(1, 65)\n",
        "\n",
        "host.set_xlabel(\"Distance\")\n",
        "host.set_ylabel(\"Density\")\n",
        "par1.set_ylabel(\"Temperature\")\n",
        "par2.set_ylabel(\"Velocity\")\n",
        "\n",
        "color1 = plt.cm.viridis(0)\n",
        "color2 = plt.cm.viridis(0.5)\n",
        "color3 = plt.cm.viridis(.9)\n",
        "\n",
        "# p1, = host.plot([0, 1, 2], [0, 1, 2], color=color1,label=\"Density\")\n",
        "# p2, = par1.plot([0, 1, 2], [0, 3, 2], color=color2, label=\"Temperature\")\n",
        "# p3, = par2.plot([0, 1, 2], [50, 30, 15], color=color3, label=\"Velocity\")\n",
        "\n",
        "p1, = host.plot(x, y1, color=color1,label=\"Density\")\n",
        "p2, = par1.plot(x, y2, color=color2, label=\"Temperature\")\n",
        "p3, = par2.plot(x, y3, color=color3, label=\"Velocity\")\n",
        "\n",
        "lns = [p1, p2, p3]\n",
        "host.legend(handles=lns, loc='best')\n",
        "\n",
        "# right, left, top, bottom\n",
        "par2.spines['right'].set_position(('outward', 60))      \n",
        "# no x-ticks                 \n",
        "par2.xaxis.set_ticks([])\n",
        "# Sometimes handy, same for xaxis\n",
        "par2.yaxis.set_ticks_position('right')"
      ],
      "metadata": {
        "colab": {
          "base_uri": "https://localhost:8080/",
          "height": 262
        },
        "id": "cREPN3_OY7zl",
        "outputId": "99b387f5-6778-4921-e987-275c509dba2e"
      },
      "execution_count": null,
      "outputs": [
        {
          "output_type": "display_data",
          "data": {
            "text/plain": [
              "<Figure size 432x288 with 3 Axes>"
            ],
            "image/png": "[encoded data removed]"
          },
          "metadata": {
            "needs_background": "light"
          }
        }
      ]
    },
    {
      "cell_type": "code",
      "source": [
        "from google.colab import drive\n",
        "drive.mount('/content/drive')"
      ],
      "metadata": {
        "id": "UfceSuW1ZlVZ"
      },
      "execution_count": null,
      "outputs": []
    }
  ]
}